{
 "cells": [
  {
   "cell_type": "code",
   "execution_count": 2,
   "id": "1c6afa92",
   "metadata": {},
   "outputs": [
    {
     "name": "stdout",
     "output_type": "stream",
     "text": [
      "Requirement already satisfied: tensorflow in c:\\programdata\\anaconda3\\lib\\site-packages (2.8.0)\n",
      "Requirement already satisfied: termcolor>=1.1.0 in c:\\programdata\\anaconda3\\lib\\site-packages (from tensorflow) (1.1.0)\n",
      "Requirement already satisfied: tf-estimator-nightly==2.8.0.dev2021122109 in c:\\programdata\\anaconda3\\lib\\site-packages (from tensorflow) (2.8.0.dev2021122109)\n",
      "Requirement already satisfied: setuptools in c:\\programdata\\anaconda3\\lib\\site-packages (from tensorflow) (52.0.0.post20210125)\n",
      "Requirement already satisfied: keras<2.9,>=2.8.0rc0 in c:\\programdata\\anaconda3\\lib\\site-packages (from tensorflow) (2.8.0)\n",
      "Requirement already satisfied: h5py>=2.9.0 in c:\\programdata\\anaconda3\\lib\\site-packages (from tensorflow) (2.10.0)\n",
      "Requirement already satisfied: absl-py>=0.4.0 in c:\\programdata\\anaconda3\\lib\\site-packages (from tensorflow) (1.0.0)\n",
      "Requirement already satisfied: typing-extensions>=3.6.6 in c:\\programdata\\anaconda3\\lib\\site-packages (from tensorflow) (3.7.4.3)\n",
      "Requirement already satisfied: opt-einsum>=2.3.2 in c:\\programdata\\anaconda3\\lib\\site-packages (from tensorflow) (3.3.0)\n",
      "Requirement already satisfied: numpy>=1.20 in c:\\programdata\\anaconda3\\lib\\site-packages (from tensorflow) (1.20.1)\n",
      "Requirement already satisfied: tensorflow-io-gcs-filesystem>=0.23.1 in c:\\programdata\\anaconda3\\lib\\site-packages (from tensorflow) (0.24.0)\n",
      "Requirement already satisfied: libclang>=9.0.1 in c:\\programdata\\anaconda3\\lib\\site-packages (from tensorflow) (13.0.0)\n",
      "Requirement already satisfied: grpcio<2.0,>=1.24.3 in c:\\programdata\\anaconda3\\lib\\site-packages (from tensorflow) (1.44.0)\n",
      "Requirement already satisfied: google-pasta>=0.1.1 in c:\\programdata\\anaconda3\\lib\\site-packages (from tensorflow) (0.2.0)\n",
      "Requirement already satisfied: protobuf>=3.9.2 in c:\\programdata\\anaconda3\\lib\\site-packages (from tensorflow) (3.20.0)\n",
      "Requirement already satisfied: wrapt>=1.11.0 in c:\\programdata\\anaconda3\\lib\\site-packages (from tensorflow) (1.12.1)\n",
      "Requirement already satisfied: six>=1.12.0 in c:\\programdata\\anaconda3\\lib\\site-packages (from tensorflow) (1.15.0)\n",
      "Requirement already satisfied: astunparse>=1.6.0 in c:\\programdata\\anaconda3\\lib\\site-packages (from tensorflow) (1.6.3)\n",
      "Requirement already satisfied: keras-preprocessing>=1.1.1 in c:\\programdata\\anaconda3\\lib\\site-packages (from tensorflow) (1.1.2)\n",
      "Requirement already satisfied: flatbuffers>=1.12 in c:\\programdata\\anaconda3\\lib\\site-packages (from tensorflow) (2.0)\n",
      "Requirement already satisfied: gast>=0.2.1 in c:\\programdata\\anaconda3\\lib\\site-packages (from tensorflow) (0.5.3)\n",
      "Requirement already satisfied: tensorboard<2.9,>=2.8 in c:\\programdata\\anaconda3\\lib\\site-packages (from tensorflow) (2.8.0)\n",
      "Requirement already satisfied: wheel<1.0,>=0.23.0 in c:\\programdata\\anaconda3\\lib\\site-packages (from astunparse>=1.6.0->tensorflow) (0.36.2)\n",
      "Requirement already satisfied: google-auth-oauthlib<0.5,>=0.4.1 in c:\\programdata\\anaconda3\\lib\\site-packages (from tensorboard<2.9,>=2.8->tensorflow) (0.4.6)\n",
      "Requirement already satisfied: markdown>=2.6.8 in c:\\programdata\\anaconda3\\lib\\site-packages (from tensorboard<2.9,>=2.8->tensorflow) (3.3.6)\n",
      "Requirement already satisfied: tensorboard-data-server<0.7.0,>=0.6.0 in c:\\programdata\\anaconda3\\lib\\site-packages (from tensorboard<2.9,>=2.8->tensorflow) (0.6.1)\n",
      "Requirement already satisfied: werkzeug>=0.11.15 in c:\\programdata\\anaconda3\\lib\\site-packages (from tensorboard<2.9,>=2.8->tensorflow) (1.0.1)\n",
      "Requirement already satisfied: google-auth<3,>=1.6.3 in c:\\programdata\\anaconda3\\lib\\site-packages (from tensorboard<2.9,>=2.8->tensorflow) (2.6.3)\n",
      "Requirement already satisfied: tensorboard-plugin-wit>=1.6.0 in c:\\programdata\\anaconda3\\lib\\site-packages (from tensorboard<2.9,>=2.8->tensorflow) (1.8.1)\n",
      "Requirement already satisfied: requests<3,>=2.21.0 in c:\\programdata\\anaconda3\\lib\\site-packages (from tensorboard<2.9,>=2.8->tensorflow) (2.25.1)\n",
      "Requirement already satisfied: cachetools<6.0,>=2.0.0 in c:\\programdata\\anaconda3\\lib\\site-packages (from google-auth<3,>=1.6.3->tensorboard<2.9,>=2.8->tensorflow) (5.0.0)\n",
      "Requirement already satisfied: pyasn1-modules>=0.2.1 in c:\\programdata\\anaconda3\\lib\\site-packages (from google-auth<3,>=1.6.3->tensorboard<2.9,>=2.8->tensorflow) (0.2.8)\n",
      "Requirement already satisfied: rsa<5,>=3.1.4 in c:\\programdata\\anaconda3\\lib\\site-packages (from google-auth<3,>=1.6.3->tensorboard<2.9,>=2.8->tensorflow) (4.8)\n",
      "Requirement already satisfied: requests-oauthlib>=0.7.0 in c:\\programdata\\anaconda3\\lib\\site-packages (from google-auth-oauthlib<0.5,>=0.4.1->tensorboard<2.9,>=2.8->tensorflow) (1.3.1)\n",
      "Requirement already satisfied: importlib-metadata>=4.4 in c:\\programdata\\anaconda3\\lib\\site-packages (from markdown>=2.6.8->tensorboard<2.9,>=2.8->tensorflow) (4.11.3)\n",
      "Requirement already satisfied: zipp>=0.5 in c:\\programdata\\anaconda3\\lib\\site-packages (from importlib-metadata>=4.4->markdown>=2.6.8->tensorboard<2.9,>=2.8->tensorflow) (3.4.1)\n",
      "Requirement already satisfied: pyasn1<0.5.0,>=0.4.6 in c:\\programdata\\anaconda3\\lib\\site-packages (from pyasn1-modules>=0.2.1->google-auth<3,>=1.6.3->tensorboard<2.9,>=2.8->tensorflow) (0.4.8)\n",
      "Requirement already satisfied: idna<3,>=2.5 in c:\\programdata\\anaconda3\\lib\\site-packages (from requests<3,>=2.21.0->tensorboard<2.9,>=2.8->tensorflow) (2.10)\n",
      "Requirement already satisfied: chardet<5,>=3.0.2 in c:\\programdata\\anaconda3\\lib\\site-packages (from requests<3,>=2.21.0->tensorboard<2.9,>=2.8->tensorflow) (4.0.0)\n",
      "Requirement already satisfied: urllib3<1.27,>=1.21.1 in c:\\programdata\\anaconda3\\lib\\site-packages (from requests<3,>=2.21.0->tensorboard<2.9,>=2.8->tensorflow) (1.26.4)\n",
      "Requirement already satisfied: certifi>=2017.4.17 in c:\\programdata\\anaconda3\\lib\\site-packages (from requests<3,>=2.21.0->tensorboard<2.9,>=2.8->tensorflow) (2020.12.5)\n",
      "Requirement already satisfied: oauthlib>=3.0.0 in c:\\programdata\\anaconda3\\lib\\site-packages (from requests-oauthlib>=0.7.0->google-auth-oauthlib<0.5,>=0.4.1->tensorboard<2.9,>=2.8->tensorflow) (3.2.0)\n"
     ]
    }
   ],
   "source": [
    "!pip install tensorflow\n"
   ]
  },
  {
   "cell_type": "code",
   "execution_count": 3,
   "id": "7812b8d8",
   "metadata": {},
   "outputs": [],
   "source": [
    "import numpy as np \n",
    "import pandas as pd \n",
    "import os\n",
    "import cv2\n",
    "import matplotlib.pyplot as plt\n",
    "from PIL import Image\n",
    "import re\n",
    "import gc\n",
    "import glob\n",
    "import seaborn as sns\n",
    "import tensorflow as tf\n",
    "from mlxtend.plotting import plot_confusion_matrix\n",
    "from tensorflow import keras \n",
    "from keras.models import Sequential, Model, load_model\n",
    "from keras.applications.inception_v3 import InceptionV3\n",
    "from keras.callbacks import TensorBoard, EarlyStopping, ModelCheckpoint, ReduceLROnPlateau\n",
    "from keras.layers import Conv2D, MaxPooling2D, Activation, Flatten, Dense, Dropout\n",
    "from keras.preprocessing.image import ImageDataGenerator, load_img\n",
    "from tensorflow.keras.optimizers import Adam,SGD\n",
    "from keras import backend as K\n",
    "from tensorflow.python.framework import ops\n",
    "from time import time\n",
    "from sklearn.metrics import classification_report, confusion_matrix, roc_curve,roc_auc_score\n",
    "from keras import regularizers\n",
    "import datetime\n",
    "from tensorflow.keras.layers import BatchNormalization\n",
    "from tensorflow.keras.models import Sequential, Model\n",
    "from tensorflow.keras.layers import Conv2D, MaxPooling2D, GlobalAveragePooling2D, Dropout, Flatten, Dense, Input,Conv2D, MaxPooling2D, Activation, Flatten, Dense, Dropout\n",
    "from tensorflow.nn import relu, sigmoid\n",
    "from tensorflow.keras.optimizers import Adam\n",
    "from tensorflow.keras.callbacks import EarlyStopping\n",
    "from tensorflow.keras.applications.xception import Xception\n",
    "from tensorflow.keras.layers import Conv2D, Flatten, MaxPooling2D, Dropout, BatchNormalization"
   ]
  },
  {
   "cell_type": "code",
   "execution_count": 6,
   "id": "e092f577",
   "metadata": {},
   "outputs": [
    {
     "name": "stdout",
     "output_type": "stream",
     "text": [
      "Collecting opencv-python\n",
      "  Downloading opencv_python-4.5.5.64-cp36-abi3-win_amd64.whl (35.4 MB)\n",
      "Requirement already satisfied: numpy>=1.17.3 in c:\\programdata\\anaconda3\\lib\\site-packages (from opencv-python) (1.20.1)\n",
      "Installing collected packages: opencv-python\n",
      "Successfully installed opencv-python-4.5.5.64\n",
      "Note: you may need to restart the kernel to use updated packages.\n"
     ]
    }
   ],
   "source": [
    " pip install opencv-python"
   ]
  },
  {
   "cell_type": "code",
   "execution_count": null,
   "id": "06af71cf",
   "metadata": {},
   "outputs": [],
   "source": [
    " conda install -c conda-forge opencv"
   ]
  },
  {
   "cell_type": "code",
   "execution_count": 2,
   "id": "6c82da24",
   "metadata": {},
   "outputs": [
    {
     "name": "stdout",
     "output_type": "stream",
     "text": [
      "Collecting mlxtend\n",
      "  Downloading mlxtend-0.19.0-py2.py3-none-any.whl (1.3 MB)\n",
      "Requirement already satisfied: matplotlib>=3.0.0 in c:\\programdata\\anaconda3\\lib\\site-packages (from mlxtend) (3.3.4)\n",
      "Requirement already satisfied: scikit-learn>=0.20.3 in c:\\programdata\\anaconda3\\lib\\site-packages (from mlxtend) (0.24.1)\n",
      "Requirement already satisfied: pandas>=0.24.2 in c:\\programdata\\anaconda3\\lib\\site-packages (from mlxtend) (1.2.4)\n",
      "Requirement already satisfied: numpy>=1.16.2 in c:\\programdata\\anaconda3\\lib\\site-packages (from mlxtend) (1.20.1)\n",
      "Requirement already satisfied: setuptools in c:\\programdata\\anaconda3\\lib\\site-packages (from mlxtend) (52.0.0.post20210125)\n",
      "Requirement already satisfied: joblib>=0.13.2 in c:\\programdata\\anaconda3\\lib\\site-packages (from mlxtend) (1.0.1)\n",
      "Requirement already satisfied: scipy>=1.2.1 in c:\\programdata\\anaconda3\\lib\\site-packages (from mlxtend) (1.6.2)\n",
      "Requirement already satisfied: kiwisolver>=1.0.1 in c:\\programdata\\anaconda3\\lib\\site-packages (from matplotlib>=3.0.0->mlxtend) (1.3.1)\n",
      "Requirement already satisfied: pyparsing!=2.0.4,!=2.1.2,!=2.1.6,>=2.0.3 in c:\\programdata\\anaconda3\\lib\\site-packages (from matplotlib>=3.0.0->mlxtend) (2.4.7)\n",
      "Requirement already satisfied: python-dateutil>=2.1 in c:\\programdata\\anaconda3\\lib\\site-packages (from matplotlib>=3.0.0->mlxtend) (2.8.1)\n",
      "Requirement already satisfied: cycler>=0.10 in c:\\programdata\\anaconda3\\lib\\site-packages (from matplotlib>=3.0.0->mlxtend) (0.10.0)\n",
      "Requirement already satisfied: pillow>=6.2.0 in c:\\programdata\\anaconda3\\lib\\site-packages (from matplotlib>=3.0.0->mlxtend) (8.2.0)\n",
      "Requirement already satisfied: six in c:\\programdata\\anaconda3\\lib\\site-packages (from cycler>=0.10->matplotlib>=3.0.0->mlxtend) (1.15.0)\n",
      "Requirement already satisfied: pytz>=2017.3 in c:\\programdata\\anaconda3\\lib\\site-packages (from pandas>=0.24.2->mlxtend) (2021.1)\n",
      "Requirement already satisfied: threadpoolctl>=2.0.0 in c:\\programdata\\anaconda3\\lib\\site-packages (from scikit-learn>=0.20.3->mlxtend) (2.1.0)\n",
      "Installing collected packages: mlxtend\n",
      "Successfully installed mlxtend-0.19.0\n",
      "Note: you may need to restart the kernel to use updated packages.\n"
     ]
    }
   ],
   "source": [
    "pip install mlxtend  "
   ]
  },
  {
   "cell_type": "code",
   "execution_count": 6,
   "id": "a15c823a",
   "metadata": {},
   "outputs": [
    {
     "name": "stdout",
     "output_type": "stream",
     "text": [
      "Collecting keras-layer-normalization\n",
      "  Downloading keras-layer-normalization-0.16.0.tar.gz (3.9 kB)\n",
      "Requirement already satisfied: numpy in c:\\programdata\\anaconda3\\lib\\site-packages (from keras-layer-normalization) (1.20.1)\n",
      "Building wheels for collected packages: keras-layer-normalization\n",
      "  Building wheel for keras-layer-normalization (setup.py): started\n",
      "  Building wheel for keras-layer-normalization (setup.py): finished with status 'done'\n",
      "  Created wheel for keras-layer-normalization: filename=keras_layer_normalization-0.16.0-py3-none-any.whl size=4667 sha256=ed31cb796860523a5798f376f99b31ff355dab37d4c944ce86e9a540fd91e697\n",
      "  Stored in directory: c:\\users\\computing\\appdata\\local\\pip\\cache\\wheels\\d7\\2b\\f4\\28f4bab995fa99c26b761bc7f9aeb5bf6c81e9be6ccd0b853b\n",
      "Successfully built keras-layer-normalization\n",
      "Installing collected packages: keras-layer-normalization\n",
      "Successfully installed keras-layer-normalization-0.16.0\n",
      "Note: you may need to restart the kernel to use updated packages.\n"
     ]
    }
   ],
   "source": [
    "pip install keras-layer-normalization"
   ]
  },
  {
   "cell_type": "code",
   "execution_count": 21,
   "id": "a7406570",
   "metadata": {},
   "outputs": [],
   "source": [
    "train = r'C:\\Users\\Computing\\Downloads\\data-task1\\train'\n",
    "val   = r'C:\\\\Users\\Computing\\Downloads\\data-task1\\val'\n",
    "test  = r'C:\\\\Users\\Computing\\Downloads\\data-task1\\test'"
   ]
  },
  {
   "cell_type": "code",
   "execution_count": 62,
   "id": "a168472e",
   "metadata": {},
   "outputs": [],
   "source": [
    "batch_size = 128\n",
    "num_classes = 10\n",
    "epochs = 12"
   ]
  },
  {
   "cell_type": "code",
   "execution_count": null,
   "id": "bb377b96",
   "metadata": {},
   "outputs": [],
   "source": []
  },
  {
   "cell_type": "code",
   "execution_count": 37,
   "id": "ff67c5b0",
   "metadata": {},
   "outputs": [],
   "source": [
    "# list has two lists inside, where the first one includes images with pneumonia and the second one includes normal images\n",
    "class_names = os.listdir(train)\n",
    "test_image_files = [[os.path.join(test, class_name, x) \n",
    "               for x in os.listdir(os.path.join(test, class_name))] \n",
    "               for class_name in class_names]\n",
    "\n",
    "train_image_files_first = [[os.path.join(train, class_name, x) \n",
    "               for x in os.listdir(os.path.join(train, class_name))] \n",
    "               for class_name in class_names]\n",
    "\n",
    "train_with_pneumonia = train_image_files_first[0][:len(train_image_files_first[0]) // 2]\n",
    "train_with_norm = train_image_files_first[1]\n",
    "train_image_files = [train_with_pneumonia,  train_with_norm]\n",
    "\n",
    "valid_image_files = [[os.path.join(val, class_name, x) \n",
    "               for x in os.listdir(os.path.join(val, class_name))] \n",
    "               for class_name in class_names]"
   ]
  },
  {
   "cell_type": "code",
   "execution_count": 39,
   "id": "247c298c",
   "metadata": {},
   "outputs": [
    {
     "name": "stdout",
     "output_type": "stream",
     "text": [
      "Size of training set: \n",
      "Number of images with pneumonia: 2358 and with no_pneomonia 642\n",
      "\n",
      "Size of test set: \n",
      "Number of images with pneumonia: 395 and with no_pneomonia 105\n",
      "\n",
      "Size of validation set: \n",
      "Number of images with pneumonia: 390 and with no_pneomonia 110\n"
     ]
    }
   ],
   "source": [
    "print(\"Size of training set: \")\n",
    "print(f\"Number of images with pneumonia: {len(train_image_files_first[0])} and with no_pneomonia {len(train_image_files_first[1])}\\n\")\n",
    "\n",
    "print(\"Size of test set: \")\n",
    "print(f\"Number of images with pneumonia: {len(test_image_files[0])} and with no_pneomonia {len(test_image_files[1])}\\n\")\n",
    "\n",
    "print(\"Size of validation set: \")\n",
    "print(f\"Number of images with pneumonia: {len(valid_image_files[0])} and with no_pneomonia {len(valid_image_files[1])}\")"
   ]
  },
  {
   "cell_type": "code",
   "execution_count": 42,
   "id": "d981754e",
   "metadata": {},
   "outputs": [
    {
     "data": {
      "image/png": "[encoded data removed]",
      "text/plain": [
       "<Figure size 576x576 with 1 Axes>"
      ]
     },
     "metadata": {
      "needs_background": "light"
     },
     "output_type": "display_data"
    }
   ],
   "source": [
    "pn = [len(train_image_files_first[0]), len(test_image_files[0]), len(valid_image_files[0])]\n",
    "norm = [len(train_image_files_first[1]), len(test_image_files[1]), len(valid_image_files[1])]\n",
    "  \n",
    "r = np.arange(3)\n",
    "width = 0.25\n",
    "\n",
    "fig = plt.figure(figsize = (8, 8))\n",
    "\n",
    "plt.bar(r, pn, color = 'r',\n",
    "        width = width, edgecolor = 'black',\n",
    "        label='NORMAL')\n",
    "plt.bar(r + width, norm, color = 'g',\n",
    "        width = width, edgecolor = 'black',\n",
    "        label='PNEMONIA')\n",
    "  \n",
    "plt.xlabel(\"Class\")\n",
    "plt.ylabel(\"Size\")\n",
    "plt.title(\"Size of data in pneumonia and normal classes in each dataset\")\n",
    "  \n",
    "# plt.grid(linestyle='--')\n",
    "plt.xticks(r + width/2, ['Train','Test','Validation'])\n",
    "plt.legend()\n",
    "  \n",
    "plt.show()"
   ]
  },
  {
   "cell_type": "code",
   "execution_count": 44,
   "id": "7d6e3941",
   "metadata": {},
   "outputs": [],
   "source": [
    "def plot_performance_metrics(model):\n",
    "  tr_loss = model.history['loss']\n",
    "  val_loss = model.history['val_loss']\n",
    "  tr_f1 = model.history['f1']\n",
    "  val_f1 = model.history['val_f1']\n",
    "    \n",
    "  fig, (ax1, ax2) = plt.subplots(1, 2, figsize=(15,5))\n",
    "  plt.subplots_adjust(wspace=0.40)\n",
    "\n",
    "# Loss Plot\n",
    "  ax1.plot(tr_loss)\n",
    "  ax1.plot(val_loss)\n",
    "  ax1.grid()\n",
    "  ax1.set_xlabel('Epochs')\n",
    "  ax1.set_ylabel('Loss')\n",
    "  ax1.legend(['Train Loss', 'Test Loss'], loc='upper left')\n",
    "  ax1.set_title('Plot of Train and Test Loss against Epochs')\n",
    "# F1-Score Plot\n",
    "  ax2.plot(tr_f1)\n",
    "  ax2.plot(val_f1)\n",
    "  ax2.grid()\n",
    "  ax2.set_xlabel('Epochs')\n",
    "  ax2.set_ylabel('F1 Score')\n",
    "  ax2.legend(['Train F1-Score', 'Test F1-Score'], loc='upper left')\n",
    "  ax2.set_title('Plot of Train and Test F1-Score against Epochs')\n",
    "  \n",
    "  plt.show()"
   ]
  },
  {
   "cell_type": "code",
   "execution_count": 45,
   "id": "beb78e56",
   "metadata": {},
   "outputs": [],
   "source": [
    "#PRDICTION FUNCTION FOR SIGMOID\n",
    "def predict_classes(predictions):\n",
    "    valResult = predictions.copy()\n",
    "    valResult[valResult <= 0.5] = 0  \n",
    "    valResult[valResult > 0.5] = 1   \n",
    "    return valResult"
   ]
  },
  {
   "cell_type": "code",
   "execution_count": 48,
   "id": "d32b1bfa",
   "metadata": {},
   "outputs": [],
   "source": [
    "# Function for Confusion Matrix.\n",
    "def plot_confusion_matrix(predictions, labels):\n",
    "    valResult = predict_classes(predictions)    \n",
    "    conf_matrix_df= pd.DataFrame(confusion_matrix(labels,valResult), index=[\"Normal\", \"Pneumonia\"],columns=[\"Normal\", \"Pneumonia\"])\n",
    "    plt.figure(figsize=(7,6))\n",
    "    plt.title(\"Confusion Matrix\")   \n",
    "    sns.heatmap(conf_matrix_df, annot=True,  annot_kws={\"size\" : \"20\"},  fmt='.4g')   \n",
    "    plt.xlabel('\\nPredicted',fontsize=12)    \n",
    "    plt.ylabel('Actual', fontsize=12,rotation='horizontal',labelpad=40)\n",
    "    \n",
    "# Get TP, FP, TN and FN\n",
    "    cm = confusion_matrix(labels, valResult) \n",
    "    print('='*50)                                \n",
    "    print('True Positive  (TP) = ', cm[0][0])\n",
    "    print('False Positive (FP) = ', cm[0][1])\n",
    "    print('False Negative (FN) = ', cm[1][0])\n",
    "    print('True Negative  (TN) = ', cm[1][1])\n",
    "    print('-'*26)\n",
    "    \n",
    "# Get Precision, Recall and F1 Score\n",
    "\n",
    "    if (cm[0][0] + cm[0][1])!=0 and (cm[0][0], cm[1][0])!=0:\n",
    "      precision= round((cm[0][0] / (cm[0][0] + cm[0][1]))*100, 2) \n",
    "      recall   = round((cm[0][0] / (cm[0][0] + cm[1][0]))*100, 2) \n",
    "      f1_score = round(2*((precision*recall)/(precision+recall)), 2)       \n",
    "      print(f'Precision Score: {precision}%')\n",
    "      print(f'Recall Score: {recall}%')\n",
    "      print(f'F1 Score: {f1_score}%')\n",
    "      print('='*50) \n",
    "      print('\\n')\n",
    "        \n",
    "# Function for ROC curve.\n",
    "def plot_roc_curve(predictions, labels):\n",
    "    fpr, tpr, thresholds = roc_curve(labels, predictions) \n",
    "    auc = roc_auc_score(validation_generator.classes, prediction) \n",
    "    plt.title('Receiver Operating Characteristic (ROC)  Curve',fontsize=14)\n",
    "    plt.xlim([0, 1])\n",
    "    plt.ylim([0, 1])\n",
    "    plt.plot(fpr, tpr, 'g',label = 'AUC Score = %0.2f' % auc)\n",
    "    plt.plot([0, 1], [0, 1],'r--')\n",
    "    plt.ylabel('\\nTrue Positive Rate (TPR)', fontsize=12)\n",
    "    plt.xlabel('\\nFalse Positive Rate (FPR)', fontsize=12)\n",
    "    plt.legend()\n",
    "    plt.grid()\n",
    "    plt.show()"
   ]
  },
  {
   "cell_type": "code",
   "execution_count": 54,
   "id": "b72efafa",
   "metadata": {},
   "outputs": [],
   "source": [
    "def f1(y_true, y_pred):    \n",
    "    def recall(y_true, y_pred):\n",
    "        true_positives = K.sum(K.round(K.clip(y_true * y_pred, 0, 1)))\n",
    "        possible_positives = K.sum(K.round(K.clip(y_true, 0, 1)))\n",
    "        recall = true_positives / (possible_positives + K.epsilon())\n",
    "        return recall    \n",
    "    def precision(y_true, y_pred):\n",
    "       \n",
    "        true_positives = K.sum(K.round(K.clip(y_true * y_pred, 0, 1)))\n",
    "        predicted_positives = K.sum(K.round(K.clip(y_pred, 0, 1)))\n",
    "        precision = true_positives / (predicted_positives +  K.epsilon())\n",
    "        return precision    \n",
    "        precision = precision(y_true, y_pred)\n",
    "        recall = recall(y_true, y_pred)\n",
    "        return 2*((precision*recall)/(precision+recall+K.epsilon()))"
   ]
  },
  {
   "cell_type": "code",
   "execution_count": 58,
   "id": "efcda290",
   "metadata": {},
   "outputs": [
    {
     "name": "stdout",
     "output_type": "stream",
     "text": [
      "Model: \"sequential_1\"\n",
      "_________________________________________________________________\n",
      " Layer (type)                Output Shape              Param #   \n",
      "=================================================================\n",
      " conv2d (Conv2D)             (None, 222, 239, 32)      320       \n",
      "                                                                 \n",
      " max_pooling2d (MaxPooling2D  (None, 111, 119, 32)     0         \n",
      " )                                                               \n",
      "                                                                 \n",
      " conv2d_1 (Conv2D)           (None, 109, 117, 64)      18496     \n",
      "                                                                 \n",
      " max_pooling2d_1 (MaxPooling  (None, 54, 58, 64)       0         \n",
      " 2D)                                                             \n",
      "                                                                 \n",
      " conv2d_2 (Conv2D)           (None, 52, 56, 128)       73856     \n",
      "                                                                 \n",
      " max_pooling2d_2 (MaxPooling  (None, 26, 28, 128)      0         \n",
      " 2D)                                                             \n",
      "                                                                 \n",
      " conv2d_3 (Conv2D)           (None, 24, 26, 128)       147584    \n",
      "                                                                 \n",
      " max_pooling2d_3 (MaxPooling  (None, 12, 13, 128)      0         \n",
      " 2D)                                                             \n",
      "                                                                 \n",
      " flatten (Flatten)           (None, 19968)             0         \n",
      "                                                                 \n",
      " dropout (Dropout)           (None, 19968)             0         \n",
      "                                                                 \n",
      " dense (Dense)               (None, 512)               10224128  \n",
      "                                                                 \n",
      " dropout_1 (Dropout)         (None, 512)               0         \n",
      "                                                                 \n",
      " dense_1 (Dense)             (None, 512)               262656    \n",
      "                                                                 \n",
      " dense_2 (Dense)             (None, 1)                 513       \n",
      "                                                                 \n",
      "=================================================================\n",
      "Total params: 10,727,553\n",
      "Trainable params: 10,727,553\n",
      "Non-trainable params: 0\n",
      "_________________________________________________________________\n"
     ]
    }
   ],
   "source": [
    "model = Sequential([\n",
    "    Conv2D(32, (3,3), activation=relu, input_shape=(224,241, 1)),\n",
    "    MaxPooling2D(pool_size=(2,2)),\n",
    "    \n",
    "    Conv2D(64, (3,3), activation=relu),  \n",
    "    MaxPooling2D(pool_size=(2,2)),\n",
    "    \n",
    "    Conv2D(128, (3,3), activation=relu), \n",
    "    MaxPooling2D(pool_size=(2,2)),\n",
    "    \n",
    "    Conv2D(128, (3,3), activation=relu), \n",
    "    MaxPooling2D(pool_size=(2,2)),\n",
    "    \n",
    "    Flatten(),\n",
    "    Dropout(0.5),\n",
    "    \n",
    "    Dense(512, activation=relu),\n",
    "    Dropout(0.5),\n",
    "    \n",
    "    Dense(512, activation=relu),\n",
    "    Dense(1, activation=sigmoid)\n",
    "])# Compiling the model.\n",
    "model.compile(optimizer=Adam(), \n",
    "              loss='binary_crossentropy', \n",
    "              metrics=[f1])# Summary of Architecture.\n",
    "model.summary()"
   ]
  },
  {
   "cell_type": "code",
   "execution_count": 64,
   "id": "4d568eb4",
   "metadata": {},
   "outputs": [
    {
     "name": "stdout",
     "output_type": "stream",
     "text": [
      "Found 3000 images belonging to 2 classes.\n",
      "Found 500 images belonging to 2 classes.\n"
     ]
    }
   ],
   "source": [
    "trainDataGen = ImageDataGenerator(rescale = 1./255,rotation_range = 9, zoom_range = 0.2,width_shift_range = 0.2, height_shift_range = 0.2)\n",
    "\n",
    "validationDataGen = ImageDataGenerator(rescale = 1./255,\n",
    "                                       rotation_range = 9,\n",
    "                                       zoom_range = 0.2,\n",
    "                                       width_shift_range = 0.2,\n",
    "                                       height_shift_range = 0.2)# Train  \n",
    "train_generator = trainDataGen.flow_from_directory(\n",
    "                  train,\n",
    "                  target_size = (224, 241),\n",
    "                  batch_size = batch_size,\n",
    "                  class_mode = 'binary',\n",
    "                  color_mode = 'grayscale')# Test\n",
    "validation_generator = validationDataGen.flow_from_directory(\n",
    "                       test,\n",
    "                       target_size = (224, 241),\n",
    "                       batch_size = batch_size,\n",
    "                       class_mode = 'binary',\n",
    "                       color_mode = 'grayscale',\n",
    "                       shuffle = False)"
   ]
  },
  {
   "cell_type": "code",
   "execution_count": 69,
   "id": "55a33e99",
   "metadata": {},
   "outputs": [
    {
     "name": "stdout",
     "output_type": "stream",
     "text": [
      "The tensorboard extension is already loaded. To reload it, use:\n",
      "  %reload_ext tensorboard\n"
     ]
    },
    {
     "ename": "NameError",
     "evalue": "name 'folder' is not defined",
     "output_type": "error",
     "traceback": [
      "\u001b[1;31m---------------------------------------------------------------------------\u001b[0m",
      "\u001b[1;31mNameError\u001b[0m                                 Traceback (most recent call last)",
      "\u001b[1;32m<ipython-input-69-64af982bca3a>\u001b[0m in \u001b[0;36m<module>\u001b[1;34m\u001b[0m\n\u001b[0;32m      3\u001b[0m \u001b[0mget_ipython\u001b[0m\u001b[1;33m(\u001b[0m\u001b[1;33m)\u001b[0m\u001b[1;33m.\u001b[0m\u001b[0mrun_line_magic\u001b[0m\u001b[1;33m(\u001b[0m\u001b[1;34m'load_ext'\u001b[0m\u001b[1;33m,\u001b[0m \u001b[1;34m'tensorboard'\u001b[0m\u001b[1;33m)\u001b[0m\u001b[1;33m\u001b[0m\u001b[1;33m\u001b[0m\u001b[0m\n\u001b[0;32m      4\u001b[0m \u001b[1;31m# Storing the event files in 'logs/Model_1_'\u001b[0m\u001b[1;33m\u001b[0m\u001b[1;33m\u001b[0m\u001b[1;33m\u001b[0m\u001b[0m\n\u001b[1;32m----> 5\u001b[1;33m \u001b[0mfolder\u001b[0m\u001b[1;33m.\u001b[0m\u001b[0mlog_dir\u001b[0m\u001b[1;33m=\u001b[0m\u001b[1;34m\"logs/Model_1_\"\u001b[0m \u001b[1;33m+\u001b[0m \u001b[0mdatetime\u001b[0m\u001b[1;33m.\u001b[0m\u001b[0mdatetime\u001b[0m\u001b[1;33m.\u001b[0m\u001b[0mnow\u001b[0m\u001b[1;33m(\u001b[0m\u001b[1;33m)\u001b[0m\u001b[1;33m.\u001b[0m\u001b[0mstrftime\u001b[0m\u001b[1;33m(\u001b[0m\u001b[1;34m\"%Y%m%d-%H%M%S\"\u001b[0m\u001b[1;33m)\u001b[0m\u001b[1;33m\u001b[0m\u001b[1;33m\u001b[0m\u001b[0m\n\u001b[0m\u001b[0;32m      6\u001b[0m \u001b[0mtensorboard_callback\u001b[0m \u001b[1;33m=\u001b[0m \u001b[0mtf\u001b[0m\u001b[1;33m.\u001b[0m\u001b[0mkeras\u001b[0m\u001b[1;33m.\u001b[0m\u001b[0mcallbacks\u001b[0m\u001b[1;33m.\u001b[0m\u001b[0mTensorBoard\u001b[0m\u001b[1;33m(\u001b[0m\u001b[0mlog_dir\u001b[0m\u001b[1;33m=\u001b[0m\u001b[0mlog_dir\u001b[0m\u001b[1;33m,\u001b[0m \u001b[0mhistogram_freq\u001b[0m\u001b[1;33m=\u001b[0m\u001b[1;36m0\u001b[0m\u001b[1;33m)\u001b[0m\u001b[1;33m\u001b[0m\u001b[1;33m\u001b[0m\u001b[0m\n\u001b[0;32m      7\u001b[0m \u001b[1;31m# EarlyStopping\u001b[0m\u001b[1;33m\u001b[0m\u001b[1;33m\u001b[0m\u001b[1;33m\u001b[0m\u001b[0m\n",
      "\u001b[1;31mNameError\u001b[0m: name 'folder' is not defined"
     ]
    }
   ],
   "source": [
    "# Tensorboard\n",
    "# Load the TensorBoard notebook extension.\n",
    "%load_ext tensorboard\n",
    "# Storing the event files in 'logs/Model_1_'\n",
    "folder.log_dir=\"logs/Model_1_\" + datetime.datetime.now().strftime(\"%Y%m%d-%H%M%S\")\n",
    "tensorboard_callback = tf.keras.callbacks.TensorBoard(log_dir=log_dir, histogram_freq=0)\n",
    "# EarlyStopping\n",
    "earlyStopping = EarlyStopping(monitor='val_loss',\n",
    "                              mode='min', \n",
    "                              baseline=None, \n",
    "                              restore_best_weights=True, \n",
    "                              patience = 8,\n",
    "                              verbose = 1)# Defining train and val steps required during model fitting.\n",
    "validation_steps = validation_generator.samples // batch_size\n",
    "# (624/16 = 39)\n",
    "training_steps   = train_generator.samples // batch_size        \n",
    "# (5216/16= 326)# Fit the model.\n",
    "model_1 = model.fit_generator(\n",
    "          generator = train_generator,\n",
    "          steps_per_epoch = training_steps,\n",
    "          epochs = 100,\n",
    "          validation_data = validation_generator,\n",
    "          validation_steps = validation_steps, \n",
    "          callbacks = [tensorboard_callback, earlyStopping])"
   ]
  },
  {
   "cell_type": "code",
   "execution_count": null,
   "id": "40886bfa",
   "metadata": {},
   "outputs": [],
   "source": []
  }
 ],
 "metadata": {
  "kernelspec": {
   "display_name": "Python 3",
   "language": "python",
   "name": "python3"
  },
  "language_info": {
   "codemirror_mode": {
    "name": "ipython",
    "version": 3
   },
   "file_extension": ".py",
   "mimetype": "text/x-python",
   "name": "python",
   "nbconvert_exporter": "python",
   "pygments_lexer": "ipython3",
   "version": "3.8.8"
  }
 },
 "nbformat": 4,
 "nbformat_minor": 5
}
